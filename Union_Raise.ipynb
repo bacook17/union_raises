{
 "cells": [
  {
   "cell_type": "markdown",
   "metadata": {
    "toc": true
   },
   "source": [
    "<h1>Table of Contents<span class=\"tocSkip\"></span></h1>\n",
    "<div class=\"toc\"><ul class=\"toc-item\"></ul></div>"
   ]
  },
  {
   "cell_type": "code",
   "execution_count": 27,
   "metadata": {
    "collapsed": true
   },
   "outputs": [],
   "source": [
    "import numpy as np, matplotlib.pyplot as plt, matplotlib as mpl, seaborn as sns\n",
    "from ipywidgets import interactive\n",
    "%matplotlib inline"
   ]
  },
  {
   "cell_type": "code",
   "execution_count": 21,
   "metadata": {
    "collapsed": true
   },
   "outputs": [],
   "source": [
    "sns.set_context('poster')"
   ]
  },
  {
   "cell_type": "markdown",
   "metadata": {},
   "source": [
    "We use the following equations to determine salary raises.\n",
    "\n",
    "Assume an annual raise of $r$ (ex: 3% raise $\\rightarrow r = 0.03$)\n",
    "\n",
    "For an initial salary of $S_0$, the base salary after $T$ years is:\n",
    "\n",
    "$$S_T(r) = S_0 (1 + r)^T$$\n",
    "\n",
    "This is, of course, ignoring potential union dues. If dues are some fraction $d$ of annual salary (ex: UAW nominal rates are 1.44% $\\rightarrow d = 0.0144$), then the after-dues salary is:\n",
    "\n",
    "$$S_T(r, d) =  S_0 (1 + r)^T(1-d)$$\n",
    "\n",
    "For simplicity, we will normalize by base salary (which varies by department or position). The overall fractional raise $R$ after $T$ years is:\n",
    "\n",
    "$$R_T(r,d) = (1 + r)^T(1-d) - 1$$\n",
    "\n",
    "Notably, the raise scales exponentially with time as $(1+r)^T$, while only scaling linearly with $(1-d)$. Let us assume a nominal \"without union\" case of a 3% annual raise $(r=0.03, d=0)$, and compare to a case where the union (charging 1.44% dues) only is successful in negotiating a 3.5% annual raise $(r=0.035, d=0.0144)$. It would be incorrect to assume that the union-negotiated raise will be worse than the nominal case! __After 2 years__, the union-negotiated raises would surpass those of the nominal 3% case."
   ]
  },
  {
   "cell_type": "code",
   "execution_count": 107,
   "metadata": {
    "collapsed": true
   },
   "outputs": [],
   "source": [
    "def salary_raise(t, r, d):\n",
    "    return 100. * (((1. + r)**t * (1.0 - d)) - 1.)"
   ]
  },
  {
   "cell_type": "code",
   "execution_count": 128,
   "metadata": {
    "collapsed": true
   },
   "outputs": [],
   "source": [
    "def plot_union(r, d):\n",
    "    t = np.arange(0,8)\n",
    "    plt.figure(figsize=(12, 6))\n",
    "    y1 = salary_raise(t+1, 0.03, 0.)\n",
    "    y2 = salary_raise(t+1, r, d)\n",
    "    plt.step(t, y2, 'ro-', label='{:.2f}% annual - {:.2f}% dues'.format(100.*r, 100.*d), where='post')\n",
    "    plt.step(t, y1, 'k-', label='3.00% annual', where='post')\n",
    "    improves = np.where(y2 > y1)[0]\n",
    "    if len(improves) >= 1:\n",
    "        parity_year = t[improves[0]]\n",
    "        plt.title('Union Improves Wages after {:d} year(s)'.format(parity_year))\n",
    "        plt.axvline(x=parity_year, ls=':', color='k')\n",
    "    else:\n",
    "        plt.title('Union Never Improves Wages (relative to 3% fixed)')\n",
    "    plt.xlabel('Years'), plt.ylabel('Wage Increase (%)')\n",
    "    plt.legend(loc=0)"
   ]
  },
  {
   "cell_type": "code",
   "execution_count": 129,
   "metadata": {
    "scrolled": false
   },
   "outputs": [
    {
     "data": {
      "application/vnd.jupyter.widget-view+json": {
       "model_id": "5aabdfc4eb5d4b4b8837eee166f577ba",
       "version_major": 2,
       "version_minor": 0
      },
      "text/html": [
       "<p>Failed to display Jupyter Widget of type <code>interactive</code>.</p>\n",
       "<p>\n",
       "  If you're reading this message in the Jupyter Notebook or JupyterLab Notebook, it may mean\n",
       "  that the widgets JavaScript is still loading. If this message persists, it\n",
       "  likely means that the widgets JavaScript library is either not installed or\n",
       "  not enabled. See the <a href=\"https://ipywidgets.readthedocs.io/en/stable/user_install.html\">Jupyter\n",
       "  Widgets Documentation</a> for setup instructions.\n",
       "</p>\n",
       "<p>\n",
       "  If you're reading this message in another frontend (for example, a static\n",
       "  rendering on GitHub or <a href=\"https://nbviewer.jupyter.org/\">NBViewer</a>),\n",
       "  it may mean that your frontend doesn't currently support widgets.\n",
       "</p>\n"
      ],
      "text/plain": [
       "interactive(children=(FloatSlider(value=0.035, description='r', max=0.1, readout_format='.3f', step=0.001), FloatSlider(value=0.0144, description='d', max=0.05, readout_format='.3f', step=0.001), Output()), _dom_classes=('widget-interact',))"
      ]
     },
     "metadata": {},
     "output_type": "display_data"
    }
   ],
   "source": [
    "interactive_plot = interactive(plot_union, r=(0., 0.1, 0.001), d=(0., 0.05, 0.001))\n",
    "interactive_plot.kwargs_widgets[0].value = 0.035\n",
    "interactive_plot.kwargs_widgets[0].readout_format = '.3f'\n",
    "interactive_plot.kwargs_widgets[1].value = 0.0144\n",
    "interactive_plot.kwargs_widgets[1].readout_format = '.3f'\n",
    "w_d = interactive_plot.kwargs_widgets[1]\n",
    "interactive_plot"
   ]
  },
  {
   "cell_type": "code",
   "execution_count": null,
   "metadata": {
    "collapsed": true
   },
   "outputs": [],
   "source": []
  }
 ],
 "metadata": {
  "kernelspec": {
   "display_name": "Python 3",
   "language": "python",
   "name": "python3"
  },
  "language_info": {
   "codemirror_mode": {
    "name": "ipython",
    "version": 3
   },
   "file_extension": ".py",
   "mimetype": "text/x-python",
   "name": "python",
   "nbconvert_exporter": "python",
   "pygments_lexer": "ipython3",
   "version": "3.6.3"
  },
  "toc": {
   "nav_menu": {},
   "number_sections": false,
   "sideBar": true,
   "skip_h1_title": false,
   "title_cell": "Table of Contents",
   "title_sidebar": "Contents",
   "toc_cell": true,
   "toc_position": {
    "height": "calc(100% - 180px)",
    "left": "10px",
    "top": "150px",
    "width": "165px"
   },
   "toc_section_display": true,
   "toc_window_display": true
  }
 },
 "nbformat": 4,
 "nbformat_minor": 2
}
